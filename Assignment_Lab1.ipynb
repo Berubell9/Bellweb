{
  "nbformat": 4,
  "nbformat_minor": 0,
  "metadata": {
    "colab": {
      "provenance": [],
      "authorship_tag": "ABX9TyNouPczMTqoQrfClhDhId1C",
      "include_colab_link": true
    },
    "kernelspec": {
      "name": "python3",
      "display_name": "Python 3"
    },
    "language_info": {
      "name": "python"
    }
  },
  "cells": [
    {
      "cell_type": "markdown",
      "metadata": {
        "id": "view-in-github",
        "colab_type": "text"
      },
      "source": [
        "<a href=\"https://colab.research.google.com/github/Berubell9/Bellweb/blob/main/Assignment_Lab1.ipynb\" target=\"_parent\"><img src=\"https://colab.research.google.com/assets/colab-badge.svg\" alt=\"Open In Colab\"/></a>"
      ]
    },
    {
      "cell_type": "code",
      "execution_count": null,
      "metadata": {
        "id": "eYcAcGj_Pegx",
        "colab": {
          "base_uri": "https://localhost:8080/",
          "height": 74
        },
        "outputId": "697adbf1-1cdf-418a-e8c3-745fa9fc3ae7"
      },
      "outputs": [
        {
          "output_type": "display_data",
          "data": {
            "text/plain": [
              "<IPython.core.display.HTML object>"
            ],
            "text/html": [
              "\n",
              "     <input type=\"file\" id=\"files-e59c7063-2bd2-45b1-afbb-980f9bbae53d\" name=\"files[]\" multiple disabled\n",
              "        style=\"border:none\" />\n",
              "     <output id=\"result-e59c7063-2bd2-45b1-afbb-980f9bbae53d\">\n",
              "      Upload widget is only available when the cell has been executed in the\n",
              "      current browser session. Please rerun this cell to enable.\n",
              "      </output>\n",
              "      <script>// Copyright 2017 Google LLC\n",
              "//\n",
              "// Licensed under the Apache License, Version 2.0 (the \"License\");\n",
              "// you may not use this file except in compliance with the License.\n",
              "// You may obtain a copy of the License at\n",
              "//\n",
              "//      http://www.apache.org/licenses/LICENSE-2.0\n",
              "//\n",
              "// Unless required by applicable law or agreed to in writing, software\n",
              "// distributed under the License is distributed on an \"AS IS\" BASIS,\n",
              "// WITHOUT WARRANTIES OR CONDITIONS OF ANY KIND, either express or implied.\n",
              "// See the License for the specific language governing permissions and\n",
              "// limitations under the License.\n",
              "\n",
              "/**\n",
              " * @fileoverview Helpers for google.colab Python module.\n",
              " */\n",
              "(function(scope) {\n",
              "function span(text, styleAttributes = {}) {\n",
              "  const element = document.createElement('span');\n",
              "  element.textContent = text;\n",
              "  for (const key of Object.keys(styleAttributes)) {\n",
              "    element.style[key] = styleAttributes[key];\n",
              "  }\n",
              "  return element;\n",
              "}\n",
              "\n",
              "// Max number of bytes which will be uploaded at a time.\n",
              "const MAX_PAYLOAD_SIZE = 100 * 1024;\n",
              "\n",
              "function _uploadFiles(inputId, outputId) {\n",
              "  const steps = uploadFilesStep(inputId, outputId);\n",
              "  const outputElement = document.getElementById(outputId);\n",
              "  // Cache steps on the outputElement to make it available for the next call\n",
              "  // to uploadFilesContinue from Python.\n",
              "  outputElement.steps = steps;\n",
              "\n",
              "  return _uploadFilesContinue(outputId);\n",
              "}\n",
              "\n",
              "// This is roughly an async generator (not supported in the browser yet),\n",
              "// where there are multiple asynchronous steps and the Python side is going\n",
              "// to poll for completion of each step.\n",
              "// This uses a Promise to block the python side on completion of each step,\n",
              "// then passes the result of the previous step as the input to the next step.\n",
              "function _uploadFilesContinue(outputId) {\n",
              "  const outputElement = document.getElementById(outputId);\n",
              "  const steps = outputElement.steps;\n",
              "\n",
              "  const next = steps.next(outputElement.lastPromiseValue);\n",
              "  return Promise.resolve(next.value.promise).then((value) => {\n",
              "    // Cache the last promise value to make it available to the next\n",
              "    // step of the generator.\n",
              "    outputElement.lastPromiseValue = value;\n",
              "    return next.value.response;\n",
              "  });\n",
              "}\n",
              "\n",
              "/**\n",
              " * Generator function which is called between each async step of the upload\n",
              " * process.\n",
              " * @param {string} inputId Element ID of the input file picker element.\n",
              " * @param {string} outputId Element ID of the output display.\n",
              " * @return {!Iterable<!Object>} Iterable of next steps.\n",
              " */\n",
              "function* uploadFilesStep(inputId, outputId) {\n",
              "  const inputElement = document.getElementById(inputId);\n",
              "  inputElement.disabled = false;\n",
              "\n",
              "  const outputElement = document.getElementById(outputId);\n",
              "  outputElement.innerHTML = '';\n",
              "\n",
              "  const pickedPromise = new Promise((resolve) => {\n",
              "    inputElement.addEventListener('change', (e) => {\n",
              "      resolve(e.target.files);\n",
              "    });\n",
              "  });\n",
              "\n",
              "  const cancel = document.createElement('button');\n",
              "  inputElement.parentElement.appendChild(cancel);\n",
              "  cancel.textContent = 'Cancel upload';\n",
              "  const cancelPromise = new Promise((resolve) => {\n",
              "    cancel.onclick = () => {\n",
              "      resolve(null);\n",
              "    };\n",
              "  });\n",
              "\n",
              "  // Wait for the user to pick the files.\n",
              "  const files = yield {\n",
              "    promise: Promise.race([pickedPromise, cancelPromise]),\n",
              "    response: {\n",
              "      action: 'starting',\n",
              "    }\n",
              "  };\n",
              "\n",
              "  cancel.remove();\n",
              "\n",
              "  // Disable the input element since further picks are not allowed.\n",
              "  inputElement.disabled = true;\n",
              "\n",
              "  if (!files) {\n",
              "    return {\n",
              "      response: {\n",
              "        action: 'complete',\n",
              "      }\n",
              "    };\n",
              "  }\n",
              "\n",
              "  for (const file of files) {\n",
              "    const li = document.createElement('li');\n",
              "    li.append(span(file.name, {fontWeight: 'bold'}));\n",
              "    li.append(span(\n",
              "        `(${file.type || 'n/a'}) - ${file.size} bytes, ` +\n",
              "        `last modified: ${\n",
              "            file.lastModifiedDate ? file.lastModifiedDate.toLocaleDateString() :\n",
              "                                    'n/a'} - `));\n",
              "    const percent = span('0% done');\n",
              "    li.appendChild(percent);\n",
              "\n",
              "    outputElement.appendChild(li);\n",
              "\n",
              "    const fileDataPromise = new Promise((resolve) => {\n",
              "      const reader = new FileReader();\n",
              "      reader.onload = (e) => {\n",
              "        resolve(e.target.result);\n",
              "      };\n",
              "      reader.readAsArrayBuffer(file);\n",
              "    });\n",
              "    // Wait for the data to be ready.\n",
              "    let fileData = yield {\n",
              "      promise: fileDataPromise,\n",
              "      response: {\n",
              "        action: 'continue',\n",
              "      }\n",
              "    };\n",
              "\n",
              "    // Use a chunked sending to avoid message size limits. See b/62115660.\n",
              "    let position = 0;\n",
              "    do {\n",
              "      const length = Math.min(fileData.byteLength - position, MAX_PAYLOAD_SIZE);\n",
              "      const chunk = new Uint8Array(fileData, position, length);\n",
              "      position += length;\n",
              "\n",
              "      const base64 = btoa(String.fromCharCode.apply(null, chunk));\n",
              "      yield {\n",
              "        response: {\n",
              "          action: 'append',\n",
              "          file: file.name,\n",
              "          data: base64,\n",
              "        },\n",
              "      };\n",
              "\n",
              "      let percentDone = fileData.byteLength === 0 ?\n",
              "          100 :\n",
              "          Math.round((position / fileData.byteLength) * 100);\n",
              "      percent.textContent = `${percentDone}% done`;\n",
              "\n",
              "    } while (position < fileData.byteLength);\n",
              "  }\n",
              "\n",
              "  // All done.\n",
              "  yield {\n",
              "    response: {\n",
              "      action: 'complete',\n",
              "    }\n",
              "  };\n",
              "}\n",
              "\n",
              "scope.google = scope.google || {};\n",
              "scope.google.colab = scope.google.colab || {};\n",
              "scope.google.colab._files = {\n",
              "  _uploadFiles,\n",
              "  _uploadFilesContinue,\n",
              "};\n",
              "})(self);\n",
              "</script> "
            ]
          },
          "metadata": {}
        },
        {
          "output_type": "stream",
          "name": "stdout",
          "text": [
            "Saving playtennis.csv to playtennis.csv\n"
          ]
        }
      ],
      "source": [
        "from google.colab import files\n",
        "uploaded = files.upload()"
      ]
    },
    {
      "cell_type": "code",
      "source": [
        "import numpy as np\n",
        "import pandas as pd\n",
        "df = pd.read_csv('playtennis.csv')\n",
        "print(df)"
      ],
      "metadata": {
        "id": "suJofZroYK7t",
        "colab": {
          "base_uri": "https://localhost:8080/"
        },
        "outputId": "4dd8fa28-7047-4914-b025-6c6ff44c784e"
      },
      "execution_count": null,
      "outputs": [
        {
          "output_type": "stream",
          "name": "stdout",
          "text": [
            "     outlook  temp humidity  windy play\n",
            "0      sunny   hot     high  False   no\n",
            "1      sunny   hot     high   True   no\n",
            "2   overcast   hot     high  False  yes\n",
            "3      rainy  mild     high  False  yes\n",
            "4      rainy  cool   normal  False  yes\n",
            "5      rainy  cool   normal   True   no\n",
            "6   overcast  cool   normal   True  yes\n",
            "7      sunny  mild     high  False   no\n",
            "8      sunny  cool   normal  False  yes\n",
            "9      rainy  mild   normal  False  yes\n",
            "10     sunny  mild   normal   True  yes\n",
            "11  overcast  mild     high   True  yes\n",
            "12  overcast   hot   normal  False  yes\n",
            "13     rainy  mild     high   True   no\n",
            "14  overcast   hot     high  False  yes\n",
            "15     rainy  mild     high  False  yes\n",
            "16     sunny  mild     high  False   no\n",
            "17     rainy  cool   normal   True   no\n",
            "18     sunny   hot     high  False   no\n",
            "19     sunny   hot     high   True   no\n"
          ]
        }
      ]
    },
    {
      "cell_type": "code",
      "source": [
        "# ไม่เอา play\n",
        "X = df.drop(['play'], axis=1)\n",
        "\n",
        "# เอา play\n",
        "y = df.play"
      ],
      "metadata": {
        "id": "My9cuvFodUaa"
      },
      "execution_count": null,
      "outputs": []
    },
    {
      "cell_type": "code",
      "source": [
        "# เเปลงตัวอักษรเป็นหนังสือ\n",
        "from sklearn.preprocessing import LabelEncoder\n",
        "def labelEncode(data,columns):\n",
        "  for i in columns:\n",
        "    lb = LabelEncoder().fit_transform(data[i])\n",
        "    data[i+'_'] = lb"
      ],
      "metadata": {
        "id": "CAvTMtDXcKCf"
      },
      "execution_count": null,
      "outputs": []
    },
    {
      "cell_type": "code",
      "source": [
        "# เอาข้อมมูลในคอลัมไปเเปลง\n",
        "f_columns = ['outlook', 'temp','humidity', 'windy']\n",
        "labelEncode(X,f_columns)"
      ],
      "metadata": {
        "id": "eHZWqYo1c2j8"
      },
      "execution_count": null,
      "outputs": []
    },
    {
      "cell_type": "code",
      "source": [
        "#no = 0 ; yes = 1\n",
        "y_le=LabelEncoder()\n",
        "y1=y_le.fit_transform(y)\n",
        "print(y)\n",
        "print(\"-------------------------------------------------------------------\")\n",
        "y1"
      ],
      "metadata": {
        "colab": {
          "base_uri": "https://localhost:8080/"
        },
        "id": "m0rCzOIGdwPb",
        "outputId": "8ad998b4-8302-4298-c364-f8bca8863b0f"
      },
      "execution_count": null,
      "outputs": [
        {
          "output_type": "stream",
          "name": "stdout",
          "text": [
            "0      no\n",
            "1      no\n",
            "2     yes\n",
            "3     yes\n",
            "4     yes\n",
            "5      no\n",
            "6     yes\n",
            "7      no\n",
            "8     yes\n",
            "9     yes\n",
            "10    yes\n",
            "11    yes\n",
            "12    yes\n",
            "13     no\n",
            "14    yes\n",
            "15    yes\n",
            "16     no\n",
            "17     no\n",
            "18     no\n",
            "19     no\n",
            "Name: play, dtype: object\n",
            "-------------------------------------------------------------------\n"
          ]
        },
        {
          "output_type": "execute_result",
          "data": {
            "text/plain": [
              "array([0, 0, 1, 1, 1, 0, 1, 0, 1, 1, 1, 1, 1, 0, 1, 1, 0, 0, 0, 0])"
            ]
          },
          "metadata": {},
          "execution_count": 51
        }
      ]
    },
    {
      "cell_type": "code",
      "source": [
        "# ทุกคอลัม\n",
        "print(X)"
      ],
      "metadata": {
        "colab": {
          "base_uri": "https://localhost:8080/"
        },
        "id": "0Cb9gJbgedyd",
        "outputId": "e82a5091-f402-4505-ce65-16cf926af902"
      },
      "execution_count": null,
      "outputs": [
        {
          "output_type": "stream",
          "name": "stdout",
          "text": [
            "     outlook  temp humidity  windy  outlook_  temp_  humidity_  windy_\n",
            "0      sunny   hot     high  False         2      1          0       0\n",
            "1      sunny   hot     high   True         2      1          0       1\n",
            "2   overcast   hot     high  False         0      1          0       0\n",
            "3      rainy  mild     high  False         1      2          0       0\n",
            "4      rainy  cool   normal  False         1      0          1       0\n",
            "5      rainy  cool   normal   True         1      0          1       1\n",
            "6   overcast  cool   normal   True         0      0          1       1\n",
            "7      sunny  mild     high  False         2      2          0       0\n",
            "8      sunny  cool   normal  False         2      0          1       0\n",
            "9      rainy  mild   normal  False         1      2          1       0\n",
            "10     sunny  mild   normal   True         2      2          1       1\n",
            "11  overcast  mild     high   True         0      2          0       1\n",
            "12  overcast   hot   normal  False         0      1          1       0\n",
            "13     rainy  mild     high   True         1      2          0       1\n",
            "14  overcast   hot     high  False         0      1          0       0\n",
            "15     rainy  mild     high  False         1      2          0       0\n",
            "16     sunny  mild     high  False         2      2          0       0\n",
            "17     rainy  cool   normal   True         1      0          1       1\n",
            "18     sunny   hot     high  False         2      1          0       0\n",
            "19     sunny   hot     high   True         2      1          0       1\n"
          ]
        }
      ]
    },
    {
      "cell_type": "code",
      "source": [
        "# เอาเเค่คอลัมของเลข\n",
        "X1 = X[['outlook_', 'temp_','humidity_', 'windy_']]\n",
        "print(X1)"
      ],
      "metadata": {
        "colab": {
          "base_uri": "https://localhost:8080/"
        },
        "id": "DcWS8aSheOpp",
        "outputId": "aabd7885-35b5-41f1-85eb-ee9ae0eed7ac"
      },
      "execution_count": null,
      "outputs": [
        {
          "output_type": "stream",
          "name": "stdout",
          "text": [
            "    outlook_  temp_  humidity_  windy_\n",
            "0          2      1          0       0\n",
            "1          2      1          0       1\n",
            "2          0      1          0       0\n",
            "3          1      2          0       0\n",
            "4          1      0          1       0\n",
            "5          1      0          1       1\n",
            "6          0      0          1       1\n",
            "7          2      2          0       0\n",
            "8          2      0          1       0\n",
            "9          1      2          1       0\n",
            "10         2      2          1       1\n",
            "11         0      2          0       1\n",
            "12         0      1          1       0\n",
            "13         1      2          0       1\n",
            "14         0      1          0       0\n",
            "15         1      2          0       0\n",
            "16         2      2          0       0\n",
            "17         1      0          1       1\n",
            "18         2      1          0       0\n",
            "19         2      1          0       1\n"
          ]
        }
      ]
    },
    {
      "cell_type": "code",
      "source": [
        "# คำนวณค่าความน่าจะเป็นของเเต่ละคอลัม\n",
        "from sklearn.naive_bayes import CategoricalNB\n",
        "model = CategoricalNB()\n",
        "model.fit(X1,y1)\n",
        "print(model.feature_log_prob_)"
      ],
      "metadata": {
        "colab": {
          "base_uri": "https://localhost:8080/"
        },
        "id": "5dEFX0pEe9Ra",
        "outputId": "c2fdbd67-4b3b-48c7-ecff-820a9fc15d51"
      },
      "execution_count": null,
      "outputs": [
        {
          "output_type": "stream",
          "name": "stdout",
          "text": [
            "[array([[-2.48490665, -1.09861229, -0.5389965 ],\n",
            "       [-0.84729786, -1.02961942, -1.54044504]]), array([[-1.38629436, -0.87546874, -1.09861229],\n",
            "       [-1.25276297, -1.25276297, -0.84729786]]), array([[-0.31845373, -1.29928298],\n",
            "       [-0.77318989, -0.61903921]]), array([[-0.78845736, -0.6061358 ],\n",
            "       [-0.36772478, -1.178655  ]])]\n"
          ]
        }
      ]
    },
    {
      "cell_type": "code",
      "source": [
        "print(model.category_count_)"
      ],
      "metadata": {
        "colab": {
          "base_uri": "https://localhost:8080/"
        },
        "id": "muVDHkLWmYmG",
        "outputId": "e3485d59-b773-4534-9bd1-39297d760991"
      },
      "execution_count": null,
      "outputs": [
        {
          "output_type": "stream",
          "name": "stdout",
          "text": [
            "[array([[0., 3., 6.],\n",
            "       [5., 4., 2.]]), array([[2., 4., 3.],\n",
            "       [3., 3., 5.]]), array([[7., 2.],\n",
            "       [5., 6.]]), array([[4., 5.],\n",
            "       [8., 3.]])]\n"
          ]
        }
      ]
    },
    {
      "cell_type": "markdown",
      "source": [
        "# **การบ้าน Assignment Lab 1**"
      ],
      "metadata": {
        "id": "o76lCVLLiMcP"
      }
    },
    {
      "cell_type": "code",
      "source": [
        "# predic new model\n",
        "# Array1 = sunny cool normal TRUE\n",
        "# Array2 = rainy mild normal FALSE\n",
        "new_input = [[2,0,1,1],[1,2,1,0]]\n",
        "y_prob_pred = model.predict_proba(new_input)\n",
        "y_prob_pred"
      ],
      "metadata": {
        "colab": {
          "base_uri": "https://localhost:8080/"
        },
        "id": "EqCdy-L0fma6",
        "outputId": "ba583365-7f11-4f3e-c01f-8f79706f83f8"
      },
      "execution_count": null,
      "outputs": [
        {
          "output_type": "stream",
          "name": "stderr",
          "text": [
            "/usr/local/lib/python3.7/dist-packages/sklearn/base.py:451: UserWarning: X does not have valid feature names, but CategoricalNB was fitted with feature names\n",
            "  \"X does not have valid feature names, but\"\n"
          ]
        },
        {
          "output_type": "execute_result",
          "data": {
            "text/plain": [
              "array([[0.6363419 , 0.3636581 ],\n",
              "       [0.16493552, 0.83506448]])"
            ]
          },
          "metadata": {},
          "execution_count": 69
        }
      ]
    },
    {
      "cell_type": "code",
      "source": [
        "y_new_predict = model.predict(new_input)\n",
        "n = 1\n",
        "for i in y_new_predict:\n",
        "  print( 'No' ,n, '=>: ',y_le.classes_[i])\n",
        "  n = n + 1"
      ],
      "metadata": {
        "colab": {
          "base_uri": "https://localhost:8080/"
        },
        "id": "zltQcwvHh1l2",
        "outputId": "cb36143e-4f95-4802-9b01-37981acabe53"
      },
      "execution_count": null,
      "outputs": [
        {
          "output_type": "stream",
          "name": "stdout",
          "text": [
            "No 1 =>:  no\n",
            "No 2 =>:  yes\n"
          ]
        },
        {
          "output_type": "stream",
          "name": "stderr",
          "text": [
            "/usr/local/lib/python3.7/dist-packages/sklearn/base.py:451: UserWarning: X does not have valid feature names, but CategoricalNB was fitted with feature names\n",
            "  \"X does not have valid feature names, but\"\n"
          ]
        }
      ]
    }
  ]
}