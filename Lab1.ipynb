{
  "nbformat": 4,
  "nbformat_minor": 0,
  "metadata": {
    "colab": {
      "provenance": [],
      "collapsed_sections": [
        "85H9kj4Siqxk",
        "LwMnH9J76TsG",
        "k7gVE-W4bqXn",
        "zLLx7nGqtl1M",
        "4BrbdTKo4rSY",
        "1g3kg5d_7ISy"
      ],
      "authorship_tag": "ABX9TyOsYKDtxlbvwdv0HOb1Mc1e",
      "include_colab_link": true
    },
    "kernelspec": {
      "name": "python3",
      "display_name": "Python 3"
    },
    "language_info": {
      "name": "python"
    }
  },
  "cells": [
    {
      "cell_type": "markdown",
      "metadata": {
        "id": "view-in-github",
        "colab_type": "text"
      },
      "source": [
        "<a href=\"https://colab.research.google.com/github/Berubell9/Bellweb/blob/main/Lab1.ipynb\" target=\"_parent\"><img src=\"https://colab.research.google.com/assets/colab-badge.svg\" alt=\"Open In Colab\"/></a>"
      ]
    },
    {
      "cell_type": "markdown",
      "source": [
        "# Upload file"
      ],
      "metadata": {
        "id": "85H9kj4Siqxk"
      }
    },
    {
      "cell_type": "code",
      "source": [
        "import numpy as np\n",
        "import pandas as pd"
      ],
      "metadata": {
        "id": "80jYp-Q43Xcp"
      },
      "execution_count": 42,
      "outputs": []
    },
    {
      "cell_type": "code",
      "execution_count": 43,
      "metadata": {
        "colab": {
          "base_uri": "https://localhost:8080/",
          "height": 74
        },
        "id": "jlzTYRtAytgg",
        "outputId": "85117041-dd19-40b0-c5ca-f28ab069eb20"
      },
      "outputs": [
        {
          "output_type": "display_data",
          "data": {
            "text/plain": [
              "<IPython.core.display.HTML object>"
            ],
            "text/html": [
              "\n",
              "     <input type=\"file\" id=\"files-f0be4a8b-914b-4858-be3d-a22ff02478a0\" name=\"files[]\" multiple disabled\n",
              "        style=\"border:none\" />\n",
              "     <output id=\"result-f0be4a8b-914b-4858-be3d-a22ff02478a0\">\n",
              "      Upload widget is only available when the cell has been executed in the\n",
              "      current browser session. Please rerun this cell to enable.\n",
              "      </output>\n",
              "      <script>// Copyright 2017 Google LLC\n",
              "//\n",
              "// Licensed under the Apache License, Version 2.0 (the \"License\");\n",
              "// you may not use this file except in compliance with the License.\n",
              "// You may obtain a copy of the License at\n",
              "//\n",
              "//      http://www.apache.org/licenses/LICENSE-2.0\n",
              "//\n",
              "// Unless required by applicable law or agreed to in writing, software\n",
              "// distributed under the License is distributed on an \"AS IS\" BASIS,\n",
              "// WITHOUT WARRANTIES OR CONDITIONS OF ANY KIND, either express or implied.\n",
              "// See the License for the specific language governing permissions and\n",
              "// limitations under the License.\n",
              "\n",
              "/**\n",
              " * @fileoverview Helpers for google.colab Python module.\n",
              " */\n",
              "(function(scope) {\n",
              "function span(text, styleAttributes = {}) {\n",
              "  const element = document.createElement('span');\n",
              "  element.textContent = text;\n",
              "  for (const key of Object.keys(styleAttributes)) {\n",
              "    element.style[key] = styleAttributes[key];\n",
              "  }\n",
              "  return element;\n",
              "}\n",
              "\n",
              "// Max number of bytes which will be uploaded at a time.\n",
              "const MAX_PAYLOAD_SIZE = 100 * 1024;\n",
              "\n",
              "function _uploadFiles(inputId, outputId) {\n",
              "  const steps = uploadFilesStep(inputId, outputId);\n",
              "  const outputElement = document.getElementById(outputId);\n",
              "  // Cache steps on the outputElement to make it available for the next call\n",
              "  // to uploadFilesContinue from Python.\n",
              "  outputElement.steps = steps;\n",
              "\n",
              "  return _uploadFilesContinue(outputId);\n",
              "}\n",
              "\n",
              "// This is roughly an async generator (not supported in the browser yet),\n",
              "// where there are multiple asynchronous steps and the Python side is going\n",
              "// to poll for completion of each step.\n",
              "// This uses a Promise to block the python side on completion of each step,\n",
              "// then passes the result of the previous step as the input to the next step.\n",
              "function _uploadFilesContinue(outputId) {\n",
              "  const outputElement = document.getElementById(outputId);\n",
              "  const steps = outputElement.steps;\n",
              "\n",
              "  const next = steps.next(outputElement.lastPromiseValue);\n",
              "  return Promise.resolve(next.value.promise).then((value) => {\n",
              "    // Cache the last promise value to make it available to the next\n",
              "    // step of the generator.\n",
              "    outputElement.lastPromiseValue = value;\n",
              "    return next.value.response;\n",
              "  });\n",
              "}\n",
              "\n",
              "/**\n",
              " * Generator function which is called between each async step of the upload\n",
              " * process.\n",
              " * @param {string} inputId Element ID of the input file picker element.\n",
              " * @param {string} outputId Element ID of the output display.\n",
              " * @return {!Iterable<!Object>} Iterable of next steps.\n",
              " */\n",
              "function* uploadFilesStep(inputId, outputId) {\n",
              "  const inputElement = document.getElementById(inputId);\n",
              "  inputElement.disabled = false;\n",
              "\n",
              "  const outputElement = document.getElementById(outputId);\n",
              "  outputElement.innerHTML = '';\n",
              "\n",
              "  const pickedPromise = new Promise((resolve) => {\n",
              "    inputElement.addEventListener('change', (e) => {\n",
              "      resolve(e.target.files);\n",
              "    });\n",
              "  });\n",
              "\n",
              "  const cancel = document.createElement('button');\n",
              "  inputElement.parentElement.appendChild(cancel);\n",
              "  cancel.textContent = 'Cancel upload';\n",
              "  const cancelPromise = new Promise((resolve) => {\n",
              "    cancel.onclick = () => {\n",
              "      resolve(null);\n",
              "    };\n",
              "  });\n",
              "\n",
              "  // Wait for the user to pick the files.\n",
              "  const files = yield {\n",
              "    promise: Promise.race([pickedPromise, cancelPromise]),\n",
              "    response: {\n",
              "      action: 'starting',\n",
              "    }\n",
              "  };\n",
              "\n",
              "  cancel.remove();\n",
              "\n",
              "  // Disable the input element since further picks are not allowed.\n",
              "  inputElement.disabled = true;\n",
              "\n",
              "  if (!files) {\n",
              "    return {\n",
              "      response: {\n",
              "        action: 'complete',\n",
              "      }\n",
              "    };\n",
              "  }\n",
              "\n",
              "  for (const file of files) {\n",
              "    const li = document.createElement('li');\n",
              "    li.append(span(file.name, {fontWeight: 'bold'}));\n",
              "    li.append(span(\n",
              "        `(${file.type || 'n/a'}) - ${file.size} bytes, ` +\n",
              "        `last modified: ${\n",
              "            file.lastModifiedDate ? file.lastModifiedDate.toLocaleDateString() :\n",
              "                                    'n/a'} - `));\n",
              "    const percent = span('0% done');\n",
              "    li.appendChild(percent);\n",
              "\n",
              "    outputElement.appendChild(li);\n",
              "\n",
              "    const fileDataPromise = new Promise((resolve) => {\n",
              "      const reader = new FileReader();\n",
              "      reader.onload = (e) => {\n",
              "        resolve(e.target.result);\n",
              "      };\n",
              "      reader.readAsArrayBuffer(file);\n",
              "    });\n",
              "    // Wait for the data to be ready.\n",
              "    let fileData = yield {\n",
              "      promise: fileDataPromise,\n",
              "      response: {\n",
              "        action: 'continue',\n",
              "      }\n",
              "    };\n",
              "\n",
              "    // Use a chunked sending to avoid message size limits. See b/62115660.\n",
              "    let position = 0;\n",
              "    do {\n",
              "      const length = Math.min(fileData.byteLength - position, MAX_PAYLOAD_SIZE);\n",
              "      const chunk = new Uint8Array(fileData, position, length);\n",
              "      position += length;\n",
              "\n",
              "      const base64 = btoa(String.fromCharCode.apply(null, chunk));\n",
              "      yield {\n",
              "        response: {\n",
              "          action: 'append',\n",
              "          file: file.name,\n",
              "          data: base64,\n",
              "        },\n",
              "      };\n",
              "\n",
              "      let percentDone = fileData.byteLength === 0 ?\n",
              "          100 :\n",
              "          Math.round((position / fileData.byteLength) * 100);\n",
              "      percent.textContent = `${percentDone}% done`;\n",
              "\n",
              "    } while (position < fileData.byteLength);\n",
              "  }\n",
              "\n",
              "  // All done.\n",
              "  yield {\n",
              "    response: {\n",
              "      action: 'complete',\n",
              "    }\n",
              "  };\n",
              "}\n",
              "\n",
              "scope.google = scope.google || {};\n",
              "scope.google.colab = scope.google.colab || {};\n",
              "scope.google.colab._files = {\n",
              "  _uploadFiles,\n",
              "  _uploadFilesContinue,\n",
              "};\n",
              "})(self);\n",
              "</script> "
            ]
          },
          "metadata": {}
        },
        {
          "output_type": "stream",
          "name": "stdout",
          "text": [
            "Saving simple_loan.csv to simple_loan (1).csv\n"
          ]
        }
      ],
      "source": [
        "from google.colab import files\n",
        "upload = files.upload()"
      ]
    },
    {
      "cell_type": "code",
      "source": [
        "df = pd.read_csv('simple_loan.csv')\n",
        "df"
      ],
      "metadata": {
        "colab": {
          "base_uri": "https://localhost:8080/",
          "height": 582
        },
        "id": "SnSbHgQV3CYI",
        "outputId": "5d308cbf-24f1-4bd8-9615-4bd7dbcc1571"
      },
      "execution_count": 44,
      "outputs": [
        {
          "output_type": "execute_result",
          "data": {
            "text/plain": [
              "       age  employed own_house     credit target\n",
              "0    young     False         n       fair     no\n",
              "1    young     False         n       good     no\n",
              "2    young      True         n       good    yes\n",
              "3    young      True         y       fair    yes\n",
              "4    young     False         n       fair     no\n",
              "5   middle     False         n       fair     no\n",
              "6   middle     False         n       good     no\n",
              "7   middle      True         y       good    yes\n",
              "8   middle     False         y  excellent    yes\n",
              "9   middle     False         y  excellent    yes\n",
              "10     old     False         y  excellent    yes\n",
              "11     old     False         y       good    yes\n",
              "12     old      True         n       good    yes\n",
              "13     old      True         n  excellent    yes\n",
              "14     old     False         n       fair     no\n",
              "15     old     False         n  excellent    yes\n",
              "16   young      True         y       fair    yes"
            ],
            "text/html": [
              "\n",
              "  <div id=\"df-9bdf8f32-54a4-42d2-90c1-51a56a01a153\">\n",
              "    <div class=\"colab-df-container\">\n",
              "      <div>\n",
              "<style scoped>\n",
              "    .dataframe tbody tr th:only-of-type {\n",
              "        vertical-align: middle;\n",
              "    }\n",
              "\n",
              "    .dataframe tbody tr th {\n",
              "        vertical-align: top;\n",
              "    }\n",
              "\n",
              "    .dataframe thead th {\n",
              "        text-align: right;\n",
              "    }\n",
              "</style>\n",
              "<table border=\"1\" class=\"dataframe\">\n",
              "  <thead>\n",
              "    <tr style=\"text-align: right;\">\n",
              "      <th></th>\n",
              "      <th>age</th>\n",
              "      <th>employed</th>\n",
              "      <th>own_house</th>\n",
              "      <th>credit</th>\n",
              "      <th>target</th>\n",
              "    </tr>\n",
              "  </thead>\n",
              "  <tbody>\n",
              "    <tr>\n",
              "      <th>0</th>\n",
              "      <td>young</td>\n",
              "      <td>False</td>\n",
              "      <td>n</td>\n",
              "      <td>fair</td>\n",
              "      <td>no</td>\n",
              "    </tr>\n",
              "    <tr>\n",
              "      <th>1</th>\n",
              "      <td>young</td>\n",
              "      <td>False</td>\n",
              "      <td>n</td>\n",
              "      <td>good</td>\n",
              "      <td>no</td>\n",
              "    </tr>\n",
              "    <tr>\n",
              "      <th>2</th>\n",
              "      <td>young</td>\n",
              "      <td>True</td>\n",
              "      <td>n</td>\n",
              "      <td>good</td>\n",
              "      <td>yes</td>\n",
              "    </tr>\n",
              "    <tr>\n",
              "      <th>3</th>\n",
              "      <td>young</td>\n",
              "      <td>True</td>\n",
              "      <td>y</td>\n",
              "      <td>fair</td>\n",
              "      <td>yes</td>\n",
              "    </tr>\n",
              "    <tr>\n",
              "      <th>4</th>\n",
              "      <td>young</td>\n",
              "      <td>False</td>\n",
              "      <td>n</td>\n",
              "      <td>fair</td>\n",
              "      <td>no</td>\n",
              "    </tr>\n",
              "    <tr>\n",
              "      <th>5</th>\n",
              "      <td>middle</td>\n",
              "      <td>False</td>\n",
              "      <td>n</td>\n",
              "      <td>fair</td>\n",
              "      <td>no</td>\n",
              "    </tr>\n",
              "    <tr>\n",
              "      <th>6</th>\n",
              "      <td>middle</td>\n",
              "      <td>False</td>\n",
              "      <td>n</td>\n",
              "      <td>good</td>\n",
              "      <td>no</td>\n",
              "    </tr>\n",
              "    <tr>\n",
              "      <th>7</th>\n",
              "      <td>middle</td>\n",
              "      <td>True</td>\n",
              "      <td>y</td>\n",
              "      <td>good</td>\n",
              "      <td>yes</td>\n",
              "    </tr>\n",
              "    <tr>\n",
              "      <th>8</th>\n",
              "      <td>middle</td>\n",
              "      <td>False</td>\n",
              "      <td>y</td>\n",
              "      <td>excellent</td>\n",
              "      <td>yes</td>\n",
              "    </tr>\n",
              "    <tr>\n",
              "      <th>9</th>\n",
              "      <td>middle</td>\n",
              "      <td>False</td>\n",
              "      <td>y</td>\n",
              "      <td>excellent</td>\n",
              "      <td>yes</td>\n",
              "    </tr>\n",
              "    <tr>\n",
              "      <th>10</th>\n",
              "      <td>old</td>\n",
              "      <td>False</td>\n",
              "      <td>y</td>\n",
              "      <td>excellent</td>\n",
              "      <td>yes</td>\n",
              "    </tr>\n",
              "    <tr>\n",
              "      <th>11</th>\n",
              "      <td>old</td>\n",
              "      <td>False</td>\n",
              "      <td>y</td>\n",
              "      <td>good</td>\n",
              "      <td>yes</td>\n",
              "    </tr>\n",
              "    <tr>\n",
              "      <th>12</th>\n",
              "      <td>old</td>\n",
              "      <td>True</td>\n",
              "      <td>n</td>\n",
              "      <td>good</td>\n",
              "      <td>yes</td>\n",
              "    </tr>\n",
              "    <tr>\n",
              "      <th>13</th>\n",
              "      <td>old</td>\n",
              "      <td>True</td>\n",
              "      <td>n</td>\n",
              "      <td>excellent</td>\n",
              "      <td>yes</td>\n",
              "    </tr>\n",
              "    <tr>\n",
              "      <th>14</th>\n",
              "      <td>old</td>\n",
              "      <td>False</td>\n",
              "      <td>n</td>\n",
              "      <td>fair</td>\n",
              "      <td>no</td>\n",
              "    </tr>\n",
              "    <tr>\n",
              "      <th>15</th>\n",
              "      <td>old</td>\n",
              "      <td>False</td>\n",
              "      <td>n</td>\n",
              "      <td>excellent</td>\n",
              "      <td>yes</td>\n",
              "    </tr>\n",
              "    <tr>\n",
              "      <th>16</th>\n",
              "      <td>young</td>\n",
              "      <td>True</td>\n",
              "      <td>y</td>\n",
              "      <td>fair</td>\n",
              "      <td>yes</td>\n",
              "    </tr>\n",
              "  </tbody>\n",
              "</table>\n",
              "</div>\n",
              "      <button class=\"colab-df-convert\" onclick=\"convertToInteractive('df-9bdf8f32-54a4-42d2-90c1-51a56a01a153')\"\n",
              "              title=\"Convert this dataframe to an interactive table.\"\n",
              "              style=\"display:none;\">\n",
              "        \n",
              "  <svg xmlns=\"http://www.w3.org/2000/svg\" height=\"24px\"viewBox=\"0 0 24 24\"\n",
              "       width=\"24px\">\n",
              "    <path d=\"M0 0h24v24H0V0z\" fill=\"none\"/>\n",
              "    <path d=\"M18.56 5.44l.94 2.06.94-2.06 2.06-.94-2.06-.94-.94-2.06-.94 2.06-2.06.94zm-11 1L8.5 8.5l.94-2.06 2.06-.94-2.06-.94L8.5 2.5l-.94 2.06-2.06.94zm10 10l.94 2.06.94-2.06 2.06-.94-2.06-.94-.94-2.06-.94 2.06-2.06.94z\"/><path d=\"M17.41 7.96l-1.37-1.37c-.4-.4-.92-.59-1.43-.59-.52 0-1.04.2-1.43.59L10.3 9.45l-7.72 7.72c-.78.78-.78 2.05 0 2.83L4 21.41c.39.39.9.59 1.41.59.51 0 1.02-.2 1.41-.59l7.78-7.78 2.81-2.81c.8-.78.8-2.07 0-2.86zM5.41 20L4 18.59l7.72-7.72 1.47 1.35L5.41 20z\"/>\n",
              "  </svg>\n",
              "      </button>\n",
              "      \n",
              "  <style>\n",
              "    .colab-df-container {\n",
              "      display:flex;\n",
              "      flex-wrap:wrap;\n",
              "      gap: 12px;\n",
              "    }\n",
              "\n",
              "    .colab-df-convert {\n",
              "      background-color: #E8F0FE;\n",
              "      border: none;\n",
              "      border-radius: 50%;\n",
              "      cursor: pointer;\n",
              "      display: none;\n",
              "      fill: #1967D2;\n",
              "      height: 32px;\n",
              "      padding: 0 0 0 0;\n",
              "      width: 32px;\n",
              "    }\n",
              "\n",
              "    .colab-df-convert:hover {\n",
              "      background-color: #E2EBFA;\n",
              "      box-shadow: 0px 1px 2px rgba(60, 64, 67, 0.3), 0px 1px 3px 1px rgba(60, 64, 67, 0.15);\n",
              "      fill: #174EA6;\n",
              "    }\n",
              "\n",
              "    [theme=dark] .colab-df-convert {\n",
              "      background-color: #3B4455;\n",
              "      fill: #D2E3FC;\n",
              "    }\n",
              "\n",
              "    [theme=dark] .colab-df-convert:hover {\n",
              "      background-color: #434B5C;\n",
              "      box-shadow: 0px 1px 3px 1px rgba(0, 0, 0, 0.15);\n",
              "      filter: drop-shadow(0px 1px 2px rgba(0, 0, 0, 0.3));\n",
              "      fill: #FFFFFF;\n",
              "    }\n",
              "  </style>\n",
              "\n",
              "      <script>\n",
              "        const buttonEl =\n",
              "          document.querySelector('#df-9bdf8f32-54a4-42d2-90c1-51a56a01a153 button.colab-df-convert');\n",
              "        buttonEl.style.display =\n",
              "          google.colab.kernel.accessAllowed ? 'block' : 'none';\n",
              "\n",
              "        async function convertToInteractive(key) {\n",
              "          const element = document.querySelector('#df-9bdf8f32-54a4-42d2-90c1-51a56a01a153');\n",
              "          const dataTable =\n",
              "            await google.colab.kernel.invokeFunction('convertToInteractive',\n",
              "                                                     [key], {});\n",
              "          if (!dataTable) return;\n",
              "\n",
              "          const docLinkHtml = 'Like what you see? Visit the ' +\n",
              "            '<a target=\"_blank\" href=https://colab.research.google.com/notebooks/data_table.ipynb>data table notebook</a>'\n",
              "            + ' to learn more about interactive tables.';\n",
              "          element.innerHTML = '';\n",
              "          dataTable['output_type'] = 'display_data';\n",
              "          await google.colab.output.renderOutput(dataTable, element);\n",
              "          const docLink = document.createElement('div');\n",
              "          docLink.innerHTML = docLinkHtml;\n",
              "          element.appendChild(docLink);\n",
              "        }\n",
              "      </script>\n",
              "    </div>\n",
              "  </div>\n",
              "  "
            ]
          },
          "metadata": {},
          "execution_count": 44
        }
      ]
    },
    {
      "cell_type": "markdown",
      "source": [
        "# Label encoding\n",
        "https://www.facebook.com/datawizthailand/posts/359545884636800/\n",
        "* Library คือ **sklearn** `from sklearn.preprocessing import LabelEncoder`\n",
        "* `LabelEncoder().fit_transform` เเปลงตัวหนังสือเป็นตัวเลข เรียงเลขตามลำดับตัวอักษรข้างหน้า\n",
        "\n",
        "\n",
        "---\n",
        "\n",
        "\n",
        "* `.transform()` = เเปลงตัวหนังสือเป็นตัวเลข\n",
        "* `.fit()` = ใส่ค่า\n",
        "\n"
      ],
      "metadata": {
        "id": "LwMnH9J76TsG"
      }
    },
    {
      "cell_type": "code",
      "source": [
        "from sklearn.preprocessing import LabelEncoder"
      ],
      "metadata": {
        "id": "DBxRk2Sr6QHC"
      },
      "execution_count": 45,
      "outputs": []
    },
    {
      "cell_type": "code",
      "source": [
        "labelencode = LabelEncoder()"
      ],
      "metadata": {
        "id": "bbh-uil8bMxI"
      },
      "execution_count": 46,
      "outputs": []
    },
    {
      "cell_type": "code",
      "source": [
        "# ไม่เอา target\n",
        "X = df.drop(['target'],axis=1)\n",
        "X.head(5)"
      ],
      "metadata": {
        "colab": {
          "base_uri": "https://localhost:8080/",
          "height": 206
        },
        "id": "WQkxpOBqlnyX",
        "outputId": "046b2bf4-353d-49c8-baf0-646f217ef334"
      },
      "execution_count": 47,
      "outputs": [
        {
          "output_type": "execute_result",
          "data": {
            "text/plain": [
              "     age  employed own_house credit\n",
              "0  young     False         n   fair\n",
              "1  young     False         n   good\n",
              "2  young      True         n   good\n",
              "3  young      True         y   fair\n",
              "4  young     False         n   fair"
            ],
            "text/html": [
              "\n",
              "  <div id=\"df-c043de25-cba6-4092-b250-d667147210e7\">\n",
              "    <div class=\"colab-df-container\">\n",
              "      <div>\n",
              "<style scoped>\n",
              "    .dataframe tbody tr th:only-of-type {\n",
              "        vertical-align: middle;\n",
              "    }\n",
              "\n",
              "    .dataframe tbody tr th {\n",
              "        vertical-align: top;\n",
              "    }\n",
              "\n",
              "    .dataframe thead th {\n",
              "        text-align: right;\n",
              "    }\n",
              "</style>\n",
              "<table border=\"1\" class=\"dataframe\">\n",
              "  <thead>\n",
              "    <tr style=\"text-align: right;\">\n",
              "      <th></th>\n",
              "      <th>age</th>\n",
              "      <th>employed</th>\n",
              "      <th>own_house</th>\n",
              "      <th>credit</th>\n",
              "    </tr>\n",
              "  </thead>\n",
              "  <tbody>\n",
              "    <tr>\n",
              "      <th>0</th>\n",
              "      <td>young</td>\n",
              "      <td>False</td>\n",
              "      <td>n</td>\n",
              "      <td>fair</td>\n",
              "    </tr>\n",
              "    <tr>\n",
              "      <th>1</th>\n",
              "      <td>young</td>\n",
              "      <td>False</td>\n",
              "      <td>n</td>\n",
              "      <td>good</td>\n",
              "    </tr>\n",
              "    <tr>\n",
              "      <th>2</th>\n",
              "      <td>young</td>\n",
              "      <td>True</td>\n",
              "      <td>n</td>\n",
              "      <td>good</td>\n",
              "    </tr>\n",
              "    <tr>\n",
              "      <th>3</th>\n",
              "      <td>young</td>\n",
              "      <td>True</td>\n",
              "      <td>y</td>\n",
              "      <td>fair</td>\n",
              "    </tr>\n",
              "    <tr>\n",
              "      <th>4</th>\n",
              "      <td>young</td>\n",
              "      <td>False</td>\n",
              "      <td>n</td>\n",
              "      <td>fair</td>\n",
              "    </tr>\n",
              "  </tbody>\n",
              "</table>\n",
              "</div>\n",
              "      <button class=\"colab-df-convert\" onclick=\"convertToInteractive('df-c043de25-cba6-4092-b250-d667147210e7')\"\n",
              "              title=\"Convert this dataframe to an interactive table.\"\n",
              "              style=\"display:none;\">\n",
              "        \n",
              "  <svg xmlns=\"http://www.w3.org/2000/svg\" height=\"24px\"viewBox=\"0 0 24 24\"\n",
              "       width=\"24px\">\n",
              "    <path d=\"M0 0h24v24H0V0z\" fill=\"none\"/>\n",
              "    <path d=\"M18.56 5.44l.94 2.06.94-2.06 2.06-.94-2.06-.94-.94-2.06-.94 2.06-2.06.94zm-11 1L8.5 8.5l.94-2.06 2.06-.94-2.06-.94L8.5 2.5l-.94 2.06-2.06.94zm10 10l.94 2.06.94-2.06 2.06-.94-2.06-.94-.94-2.06-.94 2.06-2.06.94z\"/><path d=\"M17.41 7.96l-1.37-1.37c-.4-.4-.92-.59-1.43-.59-.52 0-1.04.2-1.43.59L10.3 9.45l-7.72 7.72c-.78.78-.78 2.05 0 2.83L4 21.41c.39.39.9.59 1.41.59.51 0 1.02-.2 1.41-.59l7.78-7.78 2.81-2.81c.8-.78.8-2.07 0-2.86zM5.41 20L4 18.59l7.72-7.72 1.47 1.35L5.41 20z\"/>\n",
              "  </svg>\n",
              "      </button>\n",
              "      \n",
              "  <style>\n",
              "    .colab-df-container {\n",
              "      display:flex;\n",
              "      flex-wrap:wrap;\n",
              "      gap: 12px;\n",
              "    }\n",
              "\n",
              "    .colab-df-convert {\n",
              "      background-color: #E8F0FE;\n",
              "      border: none;\n",
              "      border-radius: 50%;\n",
              "      cursor: pointer;\n",
              "      display: none;\n",
              "      fill: #1967D2;\n",
              "      height: 32px;\n",
              "      padding: 0 0 0 0;\n",
              "      width: 32px;\n",
              "    }\n",
              "\n",
              "    .colab-df-convert:hover {\n",
              "      background-color: #E2EBFA;\n",
              "      box-shadow: 0px 1px 2px rgba(60, 64, 67, 0.3), 0px 1px 3px 1px rgba(60, 64, 67, 0.15);\n",
              "      fill: #174EA6;\n",
              "    }\n",
              "\n",
              "    [theme=dark] .colab-df-convert {\n",
              "      background-color: #3B4455;\n",
              "      fill: #D2E3FC;\n",
              "    }\n",
              "\n",
              "    [theme=dark] .colab-df-convert:hover {\n",
              "      background-color: #434B5C;\n",
              "      box-shadow: 0px 1px 3px 1px rgba(0, 0, 0, 0.15);\n",
              "      filter: drop-shadow(0px 1px 2px rgba(0, 0, 0, 0.3));\n",
              "      fill: #FFFFFF;\n",
              "    }\n",
              "  </style>\n",
              "\n",
              "      <script>\n",
              "        const buttonEl =\n",
              "          document.querySelector('#df-c043de25-cba6-4092-b250-d667147210e7 button.colab-df-convert');\n",
              "        buttonEl.style.display =\n",
              "          google.colab.kernel.accessAllowed ? 'block' : 'none';\n",
              "\n",
              "        async function convertToInteractive(key) {\n",
              "          const element = document.querySelector('#df-c043de25-cba6-4092-b250-d667147210e7');\n",
              "          const dataTable =\n",
              "            await google.colab.kernel.invokeFunction('convertToInteractive',\n",
              "                                                     [key], {});\n",
              "          if (!dataTable) return;\n",
              "\n",
              "          const docLinkHtml = 'Like what you see? Visit the ' +\n",
              "            '<a target=\"_blank\" href=https://colab.research.google.com/notebooks/data_table.ipynb>data table notebook</a>'\n",
              "            + ' to learn more about interactive tables.';\n",
              "          element.innerHTML = '';\n",
              "          dataTable['output_type'] = 'display_data';\n",
              "          await google.colab.output.renderOutput(dataTable, element);\n",
              "          const docLink = document.createElement('div');\n",
              "          docLink.innerHTML = docLinkHtml;\n",
              "          element.appendChild(docLink);\n",
              "        }\n",
              "      </script>\n",
              "    </div>\n",
              "  </div>\n",
              "  "
            ]
          },
          "metadata": {},
          "execution_count": 47
        }
      ]
    },
    {
      "cell_type": "code",
      "source": [
        "# เอาเฉพาะ target\n",
        "Y = df.target\n",
        "Y.head(5)"
      ],
      "metadata": {
        "colab": {
          "base_uri": "https://localhost:8080/",
          "height": 0
        },
        "id": "HKcz_woBWj-k",
        "outputId": "1a5b8f1c-28a6-49bc-b4a6-7f1139178da3"
      },
      "execution_count": 53,
      "outputs": [
        {
          "output_type": "execute_result",
          "data": {
            "text/plain": [
              "0     no\n",
              "1     no\n",
              "2    yes\n",
              "3    yes\n",
              "4     no\n",
              "Name: target, dtype: object"
            ]
          },
          "metadata": {},
          "execution_count": 53
        }
      ]
    },
    {
      "cell_type": "code",
      "source": [
        "def labelEncode(data,columns):\n",
        "  for i in columns:\n",
        "    lb = labelencode.fit_transform(data[i])\n",
        "    # เพิ่ม _ที่ชื่อคอลัม\n",
        "    data[i+'_'] = lb "
      ],
      "metadata": {
        "id": "jnIQO_V2-lug"
      },
      "execution_count": 54,
      "outputs": []
    },
    {
      "cell_type": "code",
      "source": [
        "f_columns = ['age','employed','own_house','credit']\n",
        "# เรียกใช้ function\n",
        "labelEncode(X,f_columns)"
      ],
      "metadata": {
        "id": "qYLY1qNWBeO5"
      },
      "execution_count": 55,
      "outputs": []
    },
    {
      "cell_type": "code",
      "source": [
        "Y1 = labelencode.fit_transform(Y)\n",
        "Y1"
      ],
      "metadata": {
        "colab": {
          "base_uri": "https://localhost:8080/",
          "height": 0
        },
        "id": "0AYQGX7OrJ_m",
        "outputId": "2914085b-b066-4b55-9ea7-9695c27d0b5d"
      },
      "execution_count": 56,
      "outputs": [
        {
          "output_type": "execute_result",
          "data": {
            "text/plain": [
              "array([0, 0, 1, 1, 0, 0, 0, 1, 1, 1, 1, 1, 1, 1, 0, 1, 1])"
            ]
          },
          "metadata": {},
          "execution_count": 56
        }
      ]
    },
    {
      "cell_type": "code",
      "source": [
        "# คอลัมทั้งหมด\n",
        "X.head(5)"
      ],
      "metadata": {
        "colab": {
          "base_uri": "https://localhost:8080/",
          "height": 206
        },
        "id": "nUSW439lrxhW",
        "outputId": "445686c3-7c12-4999-cb1f-2cb32374cce1"
      },
      "execution_count": 57,
      "outputs": [
        {
          "output_type": "execute_result",
          "data": {
            "text/plain": [
              "     age  employed own_house credit  age_  employed_  own_house_  credit_\n",
              "0  young     False         n   fair     2          0           0        1\n",
              "1  young     False         n   good     2          0           0        2\n",
              "2  young      True         n   good     2          1           0        2\n",
              "3  young      True         y   fair     2          1           1        1\n",
              "4  young     False         n   fair     2          0           0        1"
            ],
            "text/html": [
              "\n",
              "  <div id=\"df-6538140f-1762-48df-b27a-5510bf14771d\">\n",
              "    <div class=\"colab-df-container\">\n",
              "      <div>\n",
              "<style scoped>\n",
              "    .dataframe tbody tr th:only-of-type {\n",
              "        vertical-align: middle;\n",
              "    }\n",
              "\n",
              "    .dataframe tbody tr th {\n",
              "        vertical-align: top;\n",
              "    }\n",
              "\n",
              "    .dataframe thead th {\n",
              "        text-align: right;\n",
              "    }\n",
              "</style>\n",
              "<table border=\"1\" class=\"dataframe\">\n",
              "  <thead>\n",
              "    <tr style=\"text-align: right;\">\n",
              "      <th></th>\n",
              "      <th>age</th>\n",
              "      <th>employed</th>\n",
              "      <th>own_house</th>\n",
              "      <th>credit</th>\n",
              "      <th>age_</th>\n",
              "      <th>employed_</th>\n",
              "      <th>own_house_</th>\n",
              "      <th>credit_</th>\n",
              "    </tr>\n",
              "  </thead>\n",
              "  <tbody>\n",
              "    <tr>\n",
              "      <th>0</th>\n",
              "      <td>young</td>\n",
              "      <td>False</td>\n",
              "      <td>n</td>\n",
              "      <td>fair</td>\n",
              "      <td>2</td>\n",
              "      <td>0</td>\n",
              "      <td>0</td>\n",
              "      <td>1</td>\n",
              "    </tr>\n",
              "    <tr>\n",
              "      <th>1</th>\n",
              "      <td>young</td>\n",
              "      <td>False</td>\n",
              "      <td>n</td>\n",
              "      <td>good</td>\n",
              "      <td>2</td>\n",
              "      <td>0</td>\n",
              "      <td>0</td>\n",
              "      <td>2</td>\n",
              "    </tr>\n",
              "    <tr>\n",
              "      <th>2</th>\n",
              "      <td>young</td>\n",
              "      <td>True</td>\n",
              "      <td>n</td>\n",
              "      <td>good</td>\n",
              "      <td>2</td>\n",
              "      <td>1</td>\n",
              "      <td>0</td>\n",
              "      <td>2</td>\n",
              "    </tr>\n",
              "    <tr>\n",
              "      <th>3</th>\n",
              "      <td>young</td>\n",
              "      <td>True</td>\n",
              "      <td>y</td>\n",
              "      <td>fair</td>\n",
              "      <td>2</td>\n",
              "      <td>1</td>\n",
              "      <td>1</td>\n",
              "      <td>1</td>\n",
              "    </tr>\n",
              "    <tr>\n",
              "      <th>4</th>\n",
              "      <td>young</td>\n",
              "      <td>False</td>\n",
              "      <td>n</td>\n",
              "      <td>fair</td>\n",
              "      <td>2</td>\n",
              "      <td>0</td>\n",
              "      <td>0</td>\n",
              "      <td>1</td>\n",
              "    </tr>\n",
              "  </tbody>\n",
              "</table>\n",
              "</div>\n",
              "      <button class=\"colab-df-convert\" onclick=\"convertToInteractive('df-6538140f-1762-48df-b27a-5510bf14771d')\"\n",
              "              title=\"Convert this dataframe to an interactive table.\"\n",
              "              style=\"display:none;\">\n",
              "        \n",
              "  <svg xmlns=\"http://www.w3.org/2000/svg\" height=\"24px\"viewBox=\"0 0 24 24\"\n",
              "       width=\"24px\">\n",
              "    <path d=\"M0 0h24v24H0V0z\" fill=\"none\"/>\n",
              "    <path d=\"M18.56 5.44l.94 2.06.94-2.06 2.06-.94-2.06-.94-.94-2.06-.94 2.06-2.06.94zm-11 1L8.5 8.5l.94-2.06 2.06-.94-2.06-.94L8.5 2.5l-.94 2.06-2.06.94zm10 10l.94 2.06.94-2.06 2.06-.94-2.06-.94-.94-2.06-.94 2.06-2.06.94z\"/><path d=\"M17.41 7.96l-1.37-1.37c-.4-.4-.92-.59-1.43-.59-.52 0-1.04.2-1.43.59L10.3 9.45l-7.72 7.72c-.78.78-.78 2.05 0 2.83L4 21.41c.39.39.9.59 1.41.59.51 0 1.02-.2 1.41-.59l7.78-7.78 2.81-2.81c.8-.78.8-2.07 0-2.86zM5.41 20L4 18.59l7.72-7.72 1.47 1.35L5.41 20z\"/>\n",
              "  </svg>\n",
              "      </button>\n",
              "      \n",
              "  <style>\n",
              "    .colab-df-container {\n",
              "      display:flex;\n",
              "      flex-wrap:wrap;\n",
              "      gap: 12px;\n",
              "    }\n",
              "\n",
              "    .colab-df-convert {\n",
              "      background-color: #E8F0FE;\n",
              "      border: none;\n",
              "      border-radius: 50%;\n",
              "      cursor: pointer;\n",
              "      display: none;\n",
              "      fill: #1967D2;\n",
              "      height: 32px;\n",
              "      padding: 0 0 0 0;\n",
              "      width: 32px;\n",
              "    }\n",
              "\n",
              "    .colab-df-convert:hover {\n",
              "      background-color: #E2EBFA;\n",
              "      box-shadow: 0px 1px 2px rgba(60, 64, 67, 0.3), 0px 1px 3px 1px rgba(60, 64, 67, 0.15);\n",
              "      fill: #174EA6;\n",
              "    }\n",
              "\n",
              "    [theme=dark] .colab-df-convert {\n",
              "      background-color: #3B4455;\n",
              "      fill: #D2E3FC;\n",
              "    }\n",
              "\n",
              "    [theme=dark] .colab-df-convert:hover {\n",
              "      background-color: #434B5C;\n",
              "      box-shadow: 0px 1px 3px 1px rgba(0, 0, 0, 0.15);\n",
              "      filter: drop-shadow(0px 1px 2px rgba(0, 0, 0, 0.3));\n",
              "      fill: #FFFFFF;\n",
              "    }\n",
              "  </style>\n",
              "\n",
              "      <script>\n",
              "        const buttonEl =\n",
              "          document.querySelector('#df-6538140f-1762-48df-b27a-5510bf14771d button.colab-df-convert');\n",
              "        buttonEl.style.display =\n",
              "          google.colab.kernel.accessAllowed ? 'block' : 'none';\n",
              "\n",
              "        async function convertToInteractive(key) {\n",
              "          const element = document.querySelector('#df-6538140f-1762-48df-b27a-5510bf14771d');\n",
              "          const dataTable =\n",
              "            await google.colab.kernel.invokeFunction('convertToInteractive',\n",
              "                                                     [key], {});\n",
              "          if (!dataTable) return;\n",
              "\n",
              "          const docLinkHtml = 'Like what you see? Visit the ' +\n",
              "            '<a target=\"_blank\" href=https://colab.research.google.com/notebooks/data_table.ipynb>data table notebook</a>'\n",
              "            + ' to learn more about interactive tables.';\n",
              "          element.innerHTML = '';\n",
              "          dataTable['output_type'] = 'display_data';\n",
              "          await google.colab.output.renderOutput(dataTable, element);\n",
              "          const docLink = document.createElement('div');\n",
              "          docLink.innerHTML = docLinkHtml;\n",
              "          element.appendChild(docLink);\n",
              "        }\n",
              "      </script>\n",
              "    </div>\n",
              "  </div>\n",
              "  "
            ]
          },
          "metadata": {},
          "execution_count": 57
        }
      ]
    },
    {
      "cell_type": "code",
      "source": [
        "# คอลัมที่มีเลข\n",
        "X1 = X[['age_','employed_','own_house_','credit_']]\n",
        "X1.head(5)"
      ],
      "metadata": {
        "colab": {
          "base_uri": "https://localhost:8080/",
          "height": 206
        },
        "id": "XsQyIEHjsvH-",
        "outputId": "2db26641-da3a-49db-c643-03770cee62f1"
      },
      "execution_count": 58,
      "outputs": [
        {
          "output_type": "execute_result",
          "data": {
            "text/plain": [
              "   age_  employed_  own_house_  credit_\n",
              "0     2          0           0        1\n",
              "1     2          0           0        2\n",
              "2     2          1           0        2\n",
              "3     2          1           1        1\n",
              "4     2          0           0        1"
            ],
            "text/html": [
              "\n",
              "  <div id=\"df-60d48041-5485-4a79-9d67-dbd7a465e16e\">\n",
              "    <div class=\"colab-df-container\">\n",
              "      <div>\n",
              "<style scoped>\n",
              "    .dataframe tbody tr th:only-of-type {\n",
              "        vertical-align: middle;\n",
              "    }\n",
              "\n",
              "    .dataframe tbody tr th {\n",
              "        vertical-align: top;\n",
              "    }\n",
              "\n",
              "    .dataframe thead th {\n",
              "        text-align: right;\n",
              "    }\n",
              "</style>\n",
              "<table border=\"1\" class=\"dataframe\">\n",
              "  <thead>\n",
              "    <tr style=\"text-align: right;\">\n",
              "      <th></th>\n",
              "      <th>age_</th>\n",
              "      <th>employed_</th>\n",
              "      <th>own_house_</th>\n",
              "      <th>credit_</th>\n",
              "    </tr>\n",
              "  </thead>\n",
              "  <tbody>\n",
              "    <tr>\n",
              "      <th>0</th>\n",
              "      <td>2</td>\n",
              "      <td>0</td>\n",
              "      <td>0</td>\n",
              "      <td>1</td>\n",
              "    </tr>\n",
              "    <tr>\n",
              "      <th>1</th>\n",
              "      <td>2</td>\n",
              "      <td>0</td>\n",
              "      <td>0</td>\n",
              "      <td>2</td>\n",
              "    </tr>\n",
              "    <tr>\n",
              "      <th>2</th>\n",
              "      <td>2</td>\n",
              "      <td>1</td>\n",
              "      <td>0</td>\n",
              "      <td>2</td>\n",
              "    </tr>\n",
              "    <tr>\n",
              "      <th>3</th>\n",
              "      <td>2</td>\n",
              "      <td>1</td>\n",
              "      <td>1</td>\n",
              "      <td>1</td>\n",
              "    </tr>\n",
              "    <tr>\n",
              "      <th>4</th>\n",
              "      <td>2</td>\n",
              "      <td>0</td>\n",
              "      <td>0</td>\n",
              "      <td>1</td>\n",
              "    </tr>\n",
              "  </tbody>\n",
              "</table>\n",
              "</div>\n",
              "      <button class=\"colab-df-convert\" onclick=\"convertToInteractive('df-60d48041-5485-4a79-9d67-dbd7a465e16e')\"\n",
              "              title=\"Convert this dataframe to an interactive table.\"\n",
              "              style=\"display:none;\">\n",
              "        \n",
              "  <svg xmlns=\"http://www.w3.org/2000/svg\" height=\"24px\"viewBox=\"0 0 24 24\"\n",
              "       width=\"24px\">\n",
              "    <path d=\"M0 0h24v24H0V0z\" fill=\"none\"/>\n",
              "    <path d=\"M18.56 5.44l.94 2.06.94-2.06 2.06-.94-2.06-.94-.94-2.06-.94 2.06-2.06.94zm-11 1L8.5 8.5l.94-2.06 2.06-.94-2.06-.94L8.5 2.5l-.94 2.06-2.06.94zm10 10l.94 2.06.94-2.06 2.06-.94-2.06-.94-.94-2.06-.94 2.06-2.06.94z\"/><path d=\"M17.41 7.96l-1.37-1.37c-.4-.4-.92-.59-1.43-.59-.52 0-1.04.2-1.43.59L10.3 9.45l-7.72 7.72c-.78.78-.78 2.05 0 2.83L4 21.41c.39.39.9.59 1.41.59.51 0 1.02-.2 1.41-.59l7.78-7.78 2.81-2.81c.8-.78.8-2.07 0-2.86zM5.41 20L4 18.59l7.72-7.72 1.47 1.35L5.41 20z\"/>\n",
              "  </svg>\n",
              "      </button>\n",
              "      \n",
              "  <style>\n",
              "    .colab-df-container {\n",
              "      display:flex;\n",
              "      flex-wrap:wrap;\n",
              "      gap: 12px;\n",
              "    }\n",
              "\n",
              "    .colab-df-convert {\n",
              "      background-color: #E8F0FE;\n",
              "      border: none;\n",
              "      border-radius: 50%;\n",
              "      cursor: pointer;\n",
              "      display: none;\n",
              "      fill: #1967D2;\n",
              "      height: 32px;\n",
              "      padding: 0 0 0 0;\n",
              "      width: 32px;\n",
              "    }\n",
              "\n",
              "    .colab-df-convert:hover {\n",
              "      background-color: #E2EBFA;\n",
              "      box-shadow: 0px 1px 2px rgba(60, 64, 67, 0.3), 0px 1px 3px 1px rgba(60, 64, 67, 0.15);\n",
              "      fill: #174EA6;\n",
              "    }\n",
              "\n",
              "    [theme=dark] .colab-df-convert {\n",
              "      background-color: #3B4455;\n",
              "      fill: #D2E3FC;\n",
              "    }\n",
              "\n",
              "    [theme=dark] .colab-df-convert:hover {\n",
              "      background-color: #434B5C;\n",
              "      box-shadow: 0px 1px 3px 1px rgba(0, 0, 0, 0.15);\n",
              "      filter: drop-shadow(0px 1px 2px rgba(0, 0, 0, 0.3));\n",
              "      fill: #FFFFFF;\n",
              "    }\n",
              "  </style>\n",
              "\n",
              "      <script>\n",
              "        const buttonEl =\n",
              "          document.querySelector('#df-60d48041-5485-4a79-9d67-dbd7a465e16e button.colab-df-convert');\n",
              "        buttonEl.style.display =\n",
              "          google.colab.kernel.accessAllowed ? 'block' : 'none';\n",
              "\n",
              "        async function convertToInteractive(key) {\n",
              "          const element = document.querySelector('#df-60d48041-5485-4a79-9d67-dbd7a465e16e');\n",
              "          const dataTable =\n",
              "            await google.colab.kernel.invokeFunction('convertToInteractive',\n",
              "                                                     [key], {});\n",
              "          if (!dataTable) return;\n",
              "\n",
              "          const docLinkHtml = 'Like what you see? Visit the ' +\n",
              "            '<a target=\"_blank\" href=https://colab.research.google.com/notebooks/data_table.ipynb>data table notebook</a>'\n",
              "            + ' to learn more about interactive tables.';\n",
              "          element.innerHTML = '';\n",
              "          dataTable['output_type'] = 'display_data';\n",
              "          await google.colab.output.renderOutput(dataTable, element);\n",
              "          const docLink = document.createElement('div');\n",
              "          docLink.innerHTML = docLinkHtml;\n",
              "          element.appendChild(docLink);\n",
              "        }\n",
              "      </script>\n",
              "    </div>\n",
              "  </div>\n",
              "  "
            ]
          },
          "metadata": {},
          "execution_count": 58
        }
      ]
    },
    {
      "cell_type": "markdown",
      "source": [
        "# Test Label Encoder"
      ],
      "metadata": {
        "id": "k7gVE-W4bqXn"
      }
    },
    {
      "cell_type": "code",
      "source": [
        "encoder = LabelEncoder()\n",
        "encoder.fit_transform(['a','a','b'])"
      ],
      "metadata": {
        "id": "kLu6SjgmaNQc"
      },
      "execution_count": null,
      "outputs": []
    },
    {
      "cell_type": "markdown",
      "source": [
        "# Model Costuction | Model Interpretation\n",
        "ทำเป็นโมเดลโดยใช้ Naive Bays : https://www.geeksforgeeks.org/naive-bayes-classifiers/\n",
        "* Library คือ sklearn `from sklearn.naive_bayes import CategoricalNB`\n",
        "* model = CategoricalNB()\n",
        "*`model.feature_log_prob_` คำนวณความน่าจะเป็น (ใส่ log ทำให้ค่าติดลบ,ค่าจะห่างจาก 0)\n",
        "![Capture.PNG](data:image/png;base64,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)\n",
        "* `model.category_count_` นับจำนวนความถี่ของ attribute\n",
        "\n",
        "![image.png](data:image/png;base64,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)"
      ],
      "metadata": {
        "id": "zLLx7nGqtl1M"
      }
    },
    {
      "cell_type": "code",
      "source": [
        "from sklearn.naive_bayes import CategoricalNB"
      ],
      "metadata": {
        "id": "9f4tpfjftuEj"
      },
      "execution_count": 60,
      "outputs": []
    },
    {
      "cell_type": "code",
      "source": [
        "model = CategoricalNB()"
      ],
      "metadata": {
        "id": "AWo5xTOquAPk"
      },
      "execution_count": 61,
      "outputs": []
    },
    {
      "cell_type": "code",
      "source": [
        "model.fit(X1,Y1)"
      ],
      "metadata": {
        "colab": {
          "base_uri": "https://localhost:8080/",
          "height": 0
        },
        "id": "aYo8RSGea08t",
        "outputId": "e31a447a-f085-4891-9c0f-32ab59a6c4fb"
      },
      "execution_count": 62,
      "outputs": [
        {
          "output_type": "execute_result",
          "data": {
            "text/plain": [
              "CategoricalNB()"
            ]
          },
          "metadata": {},
          "execution_count": 62
        }
      ]
    },
    {
      "cell_type": "code",
      "source": [
        "# ความน่าจะเป็นที่จะเกิด\n",
        "for i in range(4):\n",
        "  print()\n",
        "  print(f_columns[i],\":\",model.feature_log_prob_[i])"
      ],
      "metadata": {
        "colab": {
          "base_uri": "https://localhost:8080/",
          "height": 0
        },
        "id": "BcLNJHRUa8Lc",
        "outputId": "7a0dffc7-8135-4bbf-a903-7081115e6534"
      },
      "execution_count": 63,
      "outputs": [
        {
          "output_type": "stream",
          "name": "stdout",
          "text": [
            "\n",
            "age : [[-1.09861229 -1.5040774  -0.81093022]\n",
            " [-1.25276297 -0.84729786 -1.25276297]]\n",
            "\n",
            "employed : [[-0.13353139 -2.07944154]\n",
            " [-0.77318989 -0.61903921]]\n",
            "\n",
            "own_house : [[-0.13353139 -2.07944154]\n",
            " [-0.95551145 -0.48550782]]\n",
            "\n",
            "credit : [[-2.19722458 -0.58778666 -1.09861229]\n",
            " [-0.84729786 -1.54044504 -1.02961942]]\n"
          ]
        }
      ]
    },
    {
      "cell_type": "code",
      "source": [
        "for i in range(4):\n",
        "  print()\n",
        "  print(f_columns[i],\":\",model.category_count_[i])"
      ],
      "metadata": {
        "colab": {
          "base_uri": "https://localhost:8080/",
          "height": 0
        },
        "id": "lf1dNH77dfgo",
        "outputId": "7ecd718c-19d5-491b-e691-f05bc38910d2"
      },
      "execution_count": 64,
      "outputs": [
        {
          "output_type": "stream",
          "name": "stdout",
          "text": [
            "\n",
            "age : [[2. 1. 3.]\n",
            " [3. 5. 3.]]\n",
            "\n",
            "employed : [[6. 0.]\n",
            " [5. 6.]]\n",
            "\n",
            "own_house : [[6. 0.]\n",
            " [4. 7.]]\n",
            "\n",
            "credit : [[0. 4. 2.]\n",
            " [5. 2. 4.]]\n"
          ]
        }
      ]
    },
    {
      "cell_type": "markdown",
      "source": [
        "# Model Prediction\n",
        "New data\n",
        "1. age =“middle”, employed = “true”, own_house = “y”, credit= “fair” = [0,1,1,1]\n",
        "2. age =“old”, employed = “false”, own_house = “n”, credit= “good” = [1,0,0,2]"
      ],
      "metadata": {
        "id": "4BrbdTKo4rSY"
      }
    },
    {
      "cell_type": "code",
      "source": [
        "new_input = [[0,1,1,1],[1,0,0,2]]"
      ],
      "metadata": {
        "id": "F_r-58uyjxd5"
      },
      "execution_count": 65,
      "outputs": []
    },
    {
      "cell_type": "code",
      "source": [
        "print(model.predict(new_input))"
      ],
      "metadata": {
        "colab": {
          "base_uri": "https://localhost:8080/",
          "height": 0
        },
        "id": "jjIIZ04T5-bl",
        "outputId": "2e26cbdf-53a1-489a-8657-6f5b2d983cac"
      },
      "execution_count": 67,
      "outputs": [
        {
          "output_type": "stream",
          "name": "stdout",
          "text": [
            "[1 0]\n"
          ]
        },
        {
          "output_type": "stream",
          "name": "stderr",
          "text": [
            "/usr/local/lib/python3.7/dist-packages/sklearn/base.py:451: UserWarning: X does not have valid feature names, but CategoricalNB was fitted with feature names\n",
            "  \"X does not have valid feature names, but\"\n"
          ]
        }
      ]
    },
    {
      "cell_type": "code",
      "source": [
        "print(model.predict_proba(new_input))"
      ],
      "metadata": {
        "colab": {
          "base_uri": "https://localhost:8080/",
          "height": 0
        },
        "id": "ghWE1rF26fkH",
        "outputId": "6d89b16b-9a72-4e91-a4c8-76db6179cc23"
      },
      "execution_count": 68,
      "outputs": [
        {
          "output_type": "stream",
          "name": "stdout",
          "text": [
            "[[0.0721808  0.9278192 ]\n",
            " [0.53238717 0.46761283]]\n"
          ]
        },
        {
          "output_type": "stream",
          "name": "stderr",
          "text": [
            "/usr/local/lib/python3.7/dist-packages/sklearn/base.py:451: UserWarning: X does not have valid feature names, but CategoricalNB was fitted with feature names\n",
            "  \"X does not have valid feature names, but\"\n"
          ]
        }
      ]
    },
    {
      "cell_type": "markdown",
      "source": [
        "# Invert Encoding\n",
        "เเปลงเลขกลับเป็นตัวอักษร\n",
        "* `LabelEncoder().classes_` = เเสดงค่าความน่าจะเป็นของคลาสภายใน Model "
      ],
      "metadata": {
        "id": "1g3kg5d_7ISy"
      }
    },
    {
      "cell_type": "code",
      "source": [
        "new_predict = model.predict(new_input)\n",
        "n=1\n",
        "for i in new_predict:\n",
        "  print('No',n,'=>',labelencode.classes_[i])\n",
        "  n+=1"
      ],
      "metadata": {
        "colab": {
          "base_uri": "https://localhost:8080/",
          "height": 0
        },
        "id": "oobP7W9w6pWr",
        "outputId": "b1951f2d-80a9-4eff-ed42-49e0042a9402"
      },
      "execution_count": 69,
      "outputs": [
        {
          "output_type": "stream",
          "name": "stdout",
          "text": [
            "No 1 => yes\n",
            "No 2 => no\n"
          ]
        },
        {
          "output_type": "stream",
          "name": "stderr",
          "text": [
            "/usr/local/lib/python3.7/dist-packages/sklearn/base.py:451: UserWarning: X does not have valid feature names, but CategoricalNB was fitted with feature names\n",
            "  \"X does not have valid feature names, but\"\n"
          ]
        }
      ]
    }
  ]
}